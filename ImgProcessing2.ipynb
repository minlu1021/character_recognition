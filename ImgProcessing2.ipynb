{
 "cells": [
  {
   "cell_type": "code",
   "execution_count": 1,
   "metadata": {
    "collapsed": true
   },
   "outputs": [],
   "source": [
    "import scipy.io\n",
    "import numpy as np\n",
    "from IPython.display import Image\n",
    "from PIL import Image \n",
    "import sys \n",
    "import matplotlib.pyplot as plt\n",
    "%matplotlib inline\n",
    "from sklearn.decomposition import PCA\n",
    "from sklearn.preprocessing import Normalizer\n",
    "from sklearn.cross_validation import train_test_split\n",
    "from sklearn.neighbors import KNeighborsClassifier\n",
    "from sklearn.utils.extmath import randomized_svd\n",
    "import matplotlib.image as mpimg"
   ]
  },
  {
   "cell_type": "markdown",
   "metadata": {},
   "source": [
    "## ImgProcessing\n",
    "\n",
    "\n",
    "### HandWritten Image Processing\n",
    "\n",
    "* Load the images. \n",
    "\n",
    "The images are in .png format, so they can simply been loaded by PIL Library in Python. Each image is represented by a m*n matrix, m stands for the height of the image, n stands for the width and each cell of the matrices is a pixel, in (r, g, b) format.\n",
    "\n",
    "* Cut the margins.\n",
    "\n",
    "The images are not exactly a bounding box to the characters, the margins change the relative position of characters in each imag and influence the accuracy of classification. So we find the contour of the characters and cut the white margins. This step improve the accuracy significantly, as for KNN, the accuracy is raised from 55% to 93%, as for Neural Network, ....\n",
    "\n",
    "* Convert to binary images.\n",
    "\n",
    "Set a threshold for black pixel. If the value of a pixel reach the threshold, we turn this pixel into black, otherwise, we set this pixel to white. After this process, we get a binary image, only black and white.\n",
    "\n",
    "* Resize the images. \n",
    "\n",
    "Each image is 1200 pixels in width and 900 pixels in height. There is no need to analyze based on such a high resolution. According to the project experience of MNIST data, 8\\*8 matrix is enough for each image. So we resize the part of character to 120 \\*120. Though the height-width ratio has been changed, it doesn't matter. \n",
    "Since we have 26 characters and for each character there are 55 images, now our data matrix is 55\\*26\\*120\\*120.\n",
    "\n",
    "\n",
    "### Colorful Image Processing\n",
    "\n",
    "* Load the images. \n",
    "\n",
    "The same as the first step in handwrriten image processing part. Each character has different number of colorful samples, so finally we got 2832 samples.\n",
    "\n",
    "* Do grey processing.\n",
    "\n",
    "There are several methods to grey the image, such as take the average of r, g and b or take the maximum or minimum value among r, g, b. Here we replace the value of the pixel by the average of red, green and blue. Now the pixel has been converted from (r,g,b) format to a float.\n",
    "\n",
    "* Convert to binary images\n",
    "\n",
    "The same as the second step in handwritten image processing part.\n",
    "\n",
    "* Resize the images.\n",
    "\n",
    "Though the images have no extra margins when compared to handwritten images, the colorful images are not in same size. The testdata shuold have same dimensions, so we resize the images to 50 \\* 50. (Why not 120 \\* 120, the same as handwritten part? Because the original images are very small, some alreay smaller than 120 \\* 120, I don't want to stretch them.) Now the size of testdata is 2832 \\* 50 \\* 50.\n",
    "\n",
    "* Inverting, swelling and erosion.\n",
    "\n",
    "(I am sorry for the wrong spelling of erosion in the code...)\n",
    "We consider black part as character and white part as margin by default. But in some images, white part is the character and black part is the character, exactly the opposite situation. So I tried to distinguish whether a image need invert or not based on the mean value of the pixels on the (i don't know how to say, just the first row, the last row, the first column, the last column) which usually be considered as margin. If the mean value is more like black instead of white, we invert the color of the whole picture.\n",
    "Besides, after the greying, no doubt that there will be a lot of noises on the images. I do swelling and erosion.\n",
    "Swelling means if a pixel is black, then we turn all its neighbors into black. Erosion is the opposite process, it just turn the white pixels neighbor into white.\n",
    "The sequence of applying swelling and erosion matters. Swelling first can help you get rid of the noise points, but erosion first can prevent you from eliminating some thin part of the character.\n",
    "\n",
    "\n",
    "the coverage of black pixels which should be less than white pixels in common sense.\n",
    "\n",
    "\n",
    "\n",
    "After this step, accuracy can been raised from 50% to 80%"
   ]
  },
  {
   "cell_type": "code",
   "execution_count": 2,
   "metadata": {
    "collapsed": true
   },
   "outputs": [],
   "source": [
    "newwidth = 50\n",
    "newheight = 50"
   ]
  },
  {
   "cell_type": "code",
   "execution_count": 3,
   "metadata": {
    "collapsed": true
   },
   "outputs": [],
   "source": [
    "def process(tmp):\n",
    "    tmp = np.array(tmp).reshape(newheight, newwidth)\n",
    "    \n",
    "    # find threshold\n",
    "    maxlist = []\n",
    "    minlist = []\n",
    "    for h in range(newheight):\n",
    "        maxlist.append(max(tmp[h]))\n",
    "        minlist.append(min(tmp[h]))\n",
    "        \n",
    "    lowthreshold = min(minlist)\n",
    "    highthreshold = max(maxlist)\n",
    "               \n",
    "    # decide whether reverse the colors or not\n",
    "    margin = []\n",
    "    margin.append(tmp[0])\n",
    "    margin.append(tmp[newheight - 1])\n",
    "    margin.append(tmp[:, 0])\n",
    "    margin.append(tmp[:, newwidth - 1])\n",
    "    margin = np.array(margin).flatten()\n",
    "    \n",
    "    reverse = False\n",
    "    if margin.mean() - lowthreshold > highthreshold - margin.mean():\n",
    "        reverse = True\n",
    "    \n",
    "    # make colors more obvious\n",
    "    \n",
    "    for h in range(newheight):\n",
    "        for w in range(newwidth):\n",
    "            if reverse:\n",
    "                tmp[h][w] = 1 - tmp[h][w]\n",
    "                highthresholdtmp = 1 - lowthreshold\n",
    "                lowthreshold = 1 - highthreshold\n",
    "                highthreshold = highthresholdtmp\n",
    "            if tmp[h][w] <= lowthreshold + (highthreshold - lowthreshold) / float(10) * 4.5:\n",
    "                tmp[h][w] = 0\n",
    "            if tmp[h][w] >= highthreshold - (highthreshold - lowthreshold) * 0.55:\n",
    "                tmp[h][w] = 1\n",
    "\n",
    "    return tmp\n",
    "\n",
    "def errosion(tmp):\n",
    "    copy = tmp.copy()\n",
    "    for i in range(len(tmp)):\n",
    "        for j in range(len(tmp[0])):\n",
    "            if copy[i][j] == 0:\n",
    "                if i > 0 and j > 0 and i < len(tmp) - 1 and j < len(tmp[0]) - 1:\n",
    "                    tmp[i + 1][j] = 0\n",
    "                    tmp[i - 1][j] = 0\n",
    "                    tmp[i][j + 1] = 0\n",
    "                    tmp[i][j - 1] = 0\n",
    "                    #tmp[i + 1][j + 1] = 0\n",
    "                    #tmp[i + 1][j - 1] = 0\n",
    "                    #tmp[i - 1][j + 1] = 0\n",
    "                    #tmp[i - 1][j - 1] = 0\n",
    "    \n",
    "    return tmp\n",
    "\n",
    "def swell(tmp):\n",
    "    copy = tmp.copy()\n",
    "    for i in range(len(tmp)):\n",
    "        for j in range(len(tmp[0])):\n",
    "            if copy[i][j] == 1:\n",
    "                if i > 0 and j > 0 and i < len(tmp) - 1 and j < len(tmp[0]) - 1:\n",
    "                    tmp[i + 1][j] = 1\n",
    "                    tmp[i - 1][j] = 1\n",
    "                    tmp[i][j + 1] = 1\n",
    "                    tmp[i][j - 1] = 1\n",
    "                    #tmp[i + 1][j + 1] = 1\n",
    "                    #tmp[i + 1][j - 1] = 1\n",
    "                    #tmp[i - 1][j + 1] = 1\n",
    "                    #tmp[i - 1][j - 1] = 1\n",
    "    \n",
    "    return tmp\n"
   ]
  },
  {
   "cell_type": "code",
   "execution_count": 4,
   "metadata": {
    "collapsed": false
   },
   "outputs": [
    {
     "name": "stdout",
     "output_type": "stream",
     "text": [
      "26\n",
      "2328\n"
     ]
    }
   ],
   "source": [
    "size = [100, 100, 100, 100, 100, 79, 100, 100, 100, 77, 92, 100, 100, 100, 100, 100, 35, 100, 100, 100, 92, 84, 67, 80, 67, 55]\n",
    "\n",
    "print len(size)\n",
    "\n",
    "print sum(size)"
   ]
  },
  {
   "cell_type": "code",
   "execution_count": 5,
   "metadata": {
    "collapsed": true
   },
   "outputs": [],
   "source": [
    "def showimage(tmp):\n",
    "    _=plt.matshow(tmp.reshape(newheight, newwidth),cmap=plt.cm.gray_r)\n",
    "    plt.show()\n",
    "\n",
    "    \n",
    "def getCoverage(tmp):\n",
    "    count = 0\n",
    "    for i in range(len(tmp)):\n",
    "        for j in range(len(tmp[0])):\n",
    "            if tmp[i][j] == 1:\n",
    "                count += 1\n",
    "    return float(count) / (len(tmp) * len(tmp[0]))"
   ]
  },
  {
   "cell_type": "code",
   "execution_count": 28,
   "metadata": {
    "collapsed": false
   },
   "outputs": [],
   "source": [
    "alldata = []\n",
    "\n",
    "for samplenumber in range(11, 37):\n",
    "    for imgnumber in range(1, size[samplenumber - 11] + 1):\n",
    "        filepath = \"Img//Sample\" + '{0:03}'.format(samplenumber) + \" copy//img\" + '{0:03}'.format(samplenumber) + \"-\" + '{0:05}'.format(imgnumber) + \".png\"\n",
    "        im = Image.open(filepath)\n",
    "        imgsmall = im.resize((newwidth, newheight),Image.ANTIALIAS)\n",
    "        \n",
    "        tmp = []\n",
    "        \n",
    "        for h in range(0, imgsmall.size[1]): \n",
    "            #tmp = []\n",
    "            for w in range(0, imgsmall.size[0]): \n",
    "                pixel = imgsmall.getpixel((w, h))\n",
    "                g = 1 - float(pixel[0]) / 255 + 1 - float(pixel[1]) / 255 + 1 - float(pixel[2]) / 255\n",
    "                tmp.append(g / float(3))\n",
    "        \n",
    "        tmp = np.array(tmp).reshape(newheight, newwidth)\n",
    "        #showimage(tmp)\n",
    "        \n",
    "        tmp = process(tmp)\n",
    "\n",
    "        if (getCoverage(tmp) < 0.5):\n",
    "            tmp = swell(tmp)\n",
    "\n",
    "        if (getCoverage(tmp) > 0.4):\n",
    "            tmp = errosion(tmp)\n",
    "        \n",
    "        while(getCoverage(tmp) < 0.3):\n",
    "            tmp = swell(tmp)\n",
    "            \n",
    "        #showimage(tmp)\n",
    "        \n",
    "        alldata.append(np.array(tmp).flatten())\n",
    "        \n",
    "\n",
    "        #im = Image.fromarray(np.uint8((1 - tmp) * 255))\n",
    "        #im.save(\"Img//Sample\" + '{0:03}'.format(samplenumber) + \" copy//img\" + '{0:03}'.format(samplenumber) + \"-\" + '{0:05}'.format(imgnumber) +  \"copy2.png\")\n",
    "       "
   ]
  },
  {
   "cell_type": "code",
   "execution_count": 29,
   "metadata": {
    "collapsed": false
   },
   "outputs": [
    {
     "name": "stdout",
     "output_type": "stream",
     "text": [
      "2328\n",
      "2328\n"
     ]
    }
   ],
   "source": [
    "alldata = np.array(alldata)\n",
    "\n",
    "label = []\n",
    "\n",
    "ch = 'A'\n",
    "for i in range(26):\n",
    "    for j in range(size[i]):\n",
    "        label.append([ch])\n",
    "    ch = chr(ord(ch) + 1)\n",
    "\n",
    "label = np.array(label).flatten()\n",
    "\n",
    "print len(alldata)\n",
    "print len(label)"
   ]
  },
  {
   "cell_type": "code",
   "execution_count": 32,
   "metadata": {
    "collapsed": true
   },
   "outputs": [],
   "source": [
    "n_comp_new = 40\n",
    "\n",
    "pca_new = PCA(n_comp_new)\n",
    "pca_new.fit(alldata)\n",
    "resizedata_pca = pca_new.transform(alldata)\n",
    "\n",
    "\n",
    "def cross(j):\n",
    "    accuracy = 0\n",
    "    for i in range(5):\n",
    "        x_train_resize, x_test_resize, y_train_resize, y_test_resize = train_test_split(resizedata_pca, label, test_size=0.30, random_state=1)\n",
    "\n",
    "        '''norm = Normalizer().fit(x_train_resize)           \n",
    "        x_train_resize = norm.transform(x_train_resize)          \n",
    "        x_test_resize = norm.transform(x_test_resize)'''\n",
    "\n",
    "        neigh = KNeighborsClassifier(n_neighbors = j)\n",
    "        neigh.fit(x_train_resize, y_train_resize)\n",
    "        #neigh_predict = neigh.predict(x_test)\n",
    "        accuracy += neigh.score(x_test_resize, y_test_resize)\n",
    "    \n",
    "    return accuracy / float(5)"
   ]
  },
  {
   "cell_type": "code",
   "execution_count": 33,
   "metadata": {
    "collapsed": false
   },
   "outputs": [
    {
     "data": {
      "image/png": "[encoded data removed]",
      "text/plain": [
       "<matplotlib.figure.Figure at 0x12810ae90>"
      ]
     },
     "metadata": {},
     "output_type": "display_data"
    },
    {
     "name": "stdout",
     "output_type": "stream",
     "text": [
      "[0.79685264663805433, 0.76824034334763946, 0.7811158798283262, 0.78540772532188841, 0.78826895565092991, 0.78826895565092991, 0.80400572246065816, 0.79828326180257514, 0.80829756795422036, 0.79685264663805433, 0.7868383404864091, 0.79113018597997142, 0.7811158798283262, 0.76967095851216027, 0.76680972818311877, 0.76967095851216027, 0.77110157367668097, 0.76967095851216027, 0.76680972818311877]\n"
     ]
    }
   ],
   "source": [
    "acc = []\n",
    "\n",
    "for i in range(1, 20):\n",
    "    acc.append(cross(i))\n",
    "\n",
    "plt.plot(acc,'.')\n",
    "plt.xlabel('k')\n",
    "_=plt.ylabel('Accuracy')\n",
    "plt.show()\n",
    "print acc"
   ]
  },
  {
   "cell_type": "code",
   "execution_count": 34,
   "metadata": {
    "collapsed": false
   },
   "outputs": [
    {
     "name": "stdout",
     "output_type": "stream",
     "text": [
      "0.576537911302\n"
     ]
    }
   ],
   "source": [
    "from sklearn import tree\n",
    "\n",
    "x_train, x_test, y_train, y_test = train_test_split(alldata, label, test_size=0.30, random_state=1)\n",
    "  \n",
    "clf = tree.DecisionTreeClassifier()\n",
    "clf = clf.fit(x_train, y_train)\n",
    "\n",
    "tree_predicted = clf.predict(x_test)\n",
    "print clf.score(x_test, y_test)"
   ]
  },
  {
   "cell_type": "code",
   "execution_count": 37,
   "metadata": {
    "collapsed": false
   },
   "outputs": [
    {
     "name": "stdout",
     "output_type": "stream",
     "text": [
      "2328\n",
      "0.809728183119\n"
     ]
    }
   ],
   "source": [
    "from sklearn import svm\n",
    "\n",
    "numlabel = []\n",
    "\n",
    "for i in range(len(label)):\n",
    "    numlabel.append(ord(label[i]) - ord('A'))\n",
    "    \n",
    "print len(numlabel)\n",
    "\n",
    "# svm\n",
    "x_train, x_test, y_train, y_test = train_test_split(alldata, numlabel, test_size=0.30, random_state=1)\n",
    "\n",
    "clf = svm.SVC(kernel = 'linear', decision_function_shape = 'ovr')\n",
    "clf.fit(x_train, y_train)\n",
    "\n",
    "y_pred_test = clf.predict(x_test)\n",
    "\n",
    "print clf.score(x_test, y_test)"
   ]
  },
  {
   "cell_type": "markdown",
   "metadata": {},
   "source": [
    "### if alldata 0.80\n",
    "### resizedata_pca 0.70"
   ]
  },
  {
   "cell_type": "code",
   "execution_count": null,
   "metadata": {
    "collapsed": true
   },
   "outputs": [],
   "source": []
  }
 ],
 "metadata": {
  "anaconda-cloud": {},
  "kernelspec": {
   "display_name": "Python [default]",
   "language": "python",
   "name": "python2"
  },
  "language_info": {
   "codemirror_mode": {
    "name": "ipython",
    "version": 2
   },
   "file_extension": ".py",
   "mimetype": "text/x-python",
   "name": "python",
   "nbconvert_exporter": "python",
   "pygments_lexer": "ipython2",
   "version": "2.7.12"
  }
 },
 "nbformat": 4,
 "nbformat_minor": 1
}
